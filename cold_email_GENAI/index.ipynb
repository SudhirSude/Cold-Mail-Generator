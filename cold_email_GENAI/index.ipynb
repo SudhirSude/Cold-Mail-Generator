{
 "cells": [
  {
   "cell_type": "code",
   "execution_count": 1,
   "metadata": {},
   "outputs": [],
   "source": [
    "# conda create --name cold_email python=3.10"
   ]
  },
  {
   "cell_type": "code",
   "execution_count": 4,
   "metadata": {},
   "outputs": [],
   "source": [
    "from langchain_groq import ChatGroq"
   ]
  },
  {
   "cell_type": "code",
   "execution_count": 5,
   "metadata": {},
   "outputs": [
    {
     "name": "stdout",
     "output_type": "stream",
     "text": [
      "The first person to land on the moon was Neil Armstrong. He stepped out of the lunar module Eagle and onto the moon's surface on July 20, 1969, during the Apollo 11 mission. Armstrong famously declared, \"That's one small step for man, one giant leap for mankind,\" as he became the first human to set foot on the moon.\n"
     ]
    }
   ],
   "source": [
    "llm = ChatGroq(\n",
    "    temperature=0,  # Controls the randomness of the model's responses\n",
    "    # the same input will always yield the same response\n",
    "    groq_api_key='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', \n",
    "    model_name=\"llama-3.3-70b-versatile\"\n",
    ")\n",
    "response = llm.invoke(\"The first person to land on moon was ...\")\n",
    "print(response.content)"
   ]
  },
  {
   "cell_type": "code",
   "execution_count": 6,
   "metadata": {},
   "outputs": [],
   "source": [
    "# conda install beautifulsoup4\n",
    "# conda install requests\n",
    "# conda install lxml"
   ]
  },
  {
   "cell_type": "code",
   "execution_count": 21,
   "metadata": {},
   "outputs": [
    {
     "name": "stdout",
     "output_type": "stream",
     "text": [
      "SDE II, Amazon - Job ID: 2888725 | Amazon.jobs\n",
      "Skip to main contentHomeTeamsLocationsJob categoriesMy careerMy applicationsMy profileAccount securitySettingsSign outResourcesDisability accommodationsBenefitsDiversity, equity, and inclusionInterview tipsLeadership principlesWorking at AmazonFAQ×SDE II, AmazonJob ID: 2888725 | ADCI HYD 13 SEZApply nowDESCRIPTIONWould you like to work on one of the world's largest transactional distributed systems? How about working with customers and peers from the entire range of Amazon's business on cool new features? Whether you're passionate about building highly scalable and reliable systems or a software developer who likes to solve business problems, Tax Services is the place for you.We are also responsible for the tax invoicing platform. We provide the core services that generate tax invoicing at Amazon. We thrive on providing the correct tax amounts to the customer at order time, and make sure audit records are stored safely to meet tax law requirements around the globe. Our challenges include staying on top of the complex and ever-changing global tax rates and laws as well as computing calculations correctly and quickly, thousands of times a second, and each one needs to be right.We are looking for software engineers who thrive on complex problems and relish the challenge of operating complex and mission critical systems under extreme loads. Our systems manage hundreds of millions of records, and responds to millions of service requests per minute. Do you think you are up to the challenge? Or would you like to learn more and stretch your skills and career?The successful candidate is expected to contribute to all parts of the software development and deployment lifecycle, including design, development, documentation, testing and operations. They must possess verbal and written communication skills, be self-driven and deliver high quality results in a fast paced environment. They need to really enjoy working closely with their peers in a group of very smart and talented engineers.We're looking for people who are smart and can get things done, though the following skill sets provide a good foundation for a quick ramp up to being productive in our Java, Linux based environment. We're looking for a range of experience, from brilliant and motivated new college graduates to technical leaders with the scars and battle-tested wisdom.Would you like to work on one of the world's largest transactional distributed systems? How about working with customers and peers from the entire range of Amazon's business on cool new features? Whether you're passionate about building highly scalable and reliable systems or a software developer who likes to solve business problems, Tax Services is the place for you.We are also responsible for the tax invoicing platform. We provide the core services that generate tax invoicing at Amazon. We thrive on providing the correct tax amounts to the customer at order time, and make sure audit records are stored safely to meet tax law requirements around the globe. Our challenges include staying on top of the complex and ever-changing global tax rates and laws as well as computing calculations correctly and quickly, thousands of times a second, and each one needs to be right.We are looking for software engineers who thrive on complex problems and relish the challenge of operating complex and mission critical systems under extreme loads. Our systems manage hundreds of millions of records, and responds to millions of service requests per minute. Do you think you are up to the challenge? Or would you like to learn more and stretch your skills and career?The successful candidate is expected to contribute to all parts of the software development and deployment lifecycle, including design, development, documentation, testing and operations. They must possess verbal and written communication skills, be self-driven and deliver high quality results in a fast paced environment. They need to really enjoy working closely with their peers in a group of very smart and talented engineers.We're looking for people who are smart and can get things done, though the following skill sets provide a good foundation for a quick ramp up to being productive in our Java, Linux based environment. We're looking for a range of experience, from brilliant and motivated new college graduates to technical leaders with the scars and battle-tested wisdom.BASIC QUALIFICATIONS- 3+ years of non-internship professional software development experience- 2+ years of non-internship design or architecture (design patterns, reliability and scaling) of new and existing systems experience- Experience programming with at least one software programming languagePREFERRED QUALIFICATIONS- 3+ years of full software development life cycle, including coding standards, code reviews, source control management, build processes, testing, and operations experience- Bachelor's degree in computer science or equivalentInternal job descriptionLoop competencies--Basic qualifications- 3+ years of non-internship professional software development experience- 2+ years of non-internship design or architecture (design patterns, reliability and scaling) of new and existing systems experience- Experience programming with at least one software programming languagePreferred qualifications- 3+ years of full software development life cycle, including coding standards, code reviews, source control management, build processes, testing, and operations experience- Bachelor's degree in computer science or equivalentInternal job descriptionLoop competencies--Basic qualifications- 3+ years of non-internship professional software development experience- 2+ years of non-internship design or architecture (design patterns, reliability and scaling) of new and existing systems experience- Experience programming with at least one software programming languagePreferred qualifications- 3+ years of full software development life cycle, including coding standards, code reviews, source control management, build processes, testing, and operations experience- Bachelor's degree in computer science or equivalentInternal job descriptionLoop competencies--Basic qualifications- 3+ years of non-internship professional software development experience- 2+ years of non-internship design or architecture (design patterns, reliability and scaling) of new and existing systems experience- Experience programming with at least one software programming language- Bachelor's degree in computer science or equivalentPreferred qualifications- 3+ years of full software development life cycle, including coding standards, code reviews, source control management, build processes, testing, and operations experienceBASIC QUALIFICATIONS- 3+ years of non-internship professional software development experience- 2+ years of non-internship design or architecture (design patterns, reliability and scaling) of new and existing systems experience- Experience programming with at least one software programming language- Bachelor's degree in computer science or equivalentPREFERRED QUALIFICATIONS- 3+ years of full software development life cycle, including coding standards, code reviews, source control management, build processes, testing, and operations experienceOur inclusive culture empowers Amazonians to deliver the best results for our customers. If you have a disability and need a workplace accommodation or adjustment during the application and hiring process, including support for the interview or onboarding process, please visit https://amazon.jobs/content/en/how-we-hire/accommodations for more information. If the country/region you’re applying in isn’t listed, please contact your Recruiting Partner.Job detailsIND, TS, HyderabadSoftware DevelopmentShare this jobJOIN US ONFind CareersJob CategoriesTeamsLocationsUS and EU Military recruitingWarehouse and Hourly JobsWorking At AmazonCultureBenefitsAmazon NewsletterDiversity at AmazonOur leadership principlesHelpFAQInterview tipsReview application statusDisability accommodationsEU background checksAmazon is committed to a diverse and inclusive workplace. Amazon is an equal opportunity employer and does not discriminate on the basis of race, national origin, gender, gender identity, sexual orientation, protected veteran status, disability, age, or other legally protected status.Privacy and DataImpressum© 1996-2025, Amazon.com, Inc. or its affiliates\n"
     ]
    }
   ],
   "source": [
    "from langchain_community.document_loaders import WebBaseLoader\n",
    "\n",
    "# use latest job link of amazon\n",
    "loader = WebBaseLoader(\"https://www.amazon.jobs/en/jobs/2888725/sde-ii-amazon\")\n",
    "page_data = loader.load().pop().page_content\n",
    "print(page_data)"
   ]
  },
  {
   "cell_type": "code",
   "execution_count": 22,
   "metadata": {},
   "outputs": [
    {
     "data": {
      "text/plain": [
       "str"
      ]
     },
     "execution_count": 22,
     "metadata": {},
     "output_type": "execute_result"
    }
   ],
   "source": [
    "# define a prompt template \n",
    "from langchain_core.prompts import PromptTemplate\n",
    "\n",
    "prompt_extract = PromptTemplate.from_template(\n",
    "        \"\"\"\n",
    "        ### SCRAPED TEXT FROM WEBSITE:\n",
    "        {page_data}\n",
    "        ### INSTRUCTION:\n",
    "        The scraped text is from the career's page of a website.\n",
    "        Your job is to extract the job postings and return them in JSON format containing the \n",
    "        following keys: `role`, `experience`, `skills` and `description`.\n",
    "        Only return the valid JSON.\n",
    "        ### VALID JSON (NO PREAMBLE):    \n",
    "        \"\"\"\n",
    ")\n",
    "# Creating a chain with the prompt template and LLM \n",
    "# | operator is used to create a chain\n",
    "chain_extract = prompt_extract | llm \n",
    "\n",
    "# Invoking the chain with input data\n",
    "res = chain_extract.invoke(input={'page_data':page_data})\n",
    "type(res.content)"
   ]
  },
  {
   "cell_type": "code",
   "execution_count": 23,
   "metadata": {},
   "outputs": [
    {
     "data": {
      "text/plain": [
       "{'role': 'SDE II',\n",
       " 'experience': '3+ years of non-internship professional software development experience, 2+ years of non-internship design or architecture experience',\n",
       " 'skills': ['Java',\n",
       "  'Linux',\n",
       "  'software programming language',\n",
       "  'design patterns',\n",
       "  'reliability and scaling',\n",
       "  'coding standards',\n",
       "  'code reviews',\n",
       "  'source control management',\n",
       "  'build processes',\n",
       "  'testing',\n",
       "  'operations'],\n",
       " 'description': 'We are looking for software engineers who thrive on complex problems and relish the challenge of operating complex and mission critical systems under extreme loads. Our systems manage hundreds of millions of records, and responds to millions of service requests per minute.'}"
      ]
     },
     "execution_count": 23,
     "metadata": {},
     "output_type": "execute_result"
    }
   ],
   "source": [
    "from langchain_core.output_parsers import JsonOutputParser\n",
    "# parse() method parses the JSON output and returns a Python dictionary representation of the JSON data.\n",
    "\n",
    "json_parser = JsonOutputParser()\n",
    "json_res = json_parser.parse(res.content)\n",
    "json_res"
   ]
  },
  {
   "cell_type": "code",
   "execution_count": 24,
   "metadata": {},
   "outputs": [
    {
     "data": {
      "text/plain": [
       "dict"
      ]
     },
     "execution_count": 24,
     "metadata": {},
     "output_type": "execute_result"
    }
   ],
   "source": [
    "type(json_res)"
   ]
  },
  {
   "cell_type": "code",
   "execution_count": 25,
   "metadata": {},
   "outputs": [
    {
     "name": "stdout",
     "output_type": "stream",
     "text": [
      "                               Techstack  \\\n",
      "0                React, Node.js, MongoDB   \n",
      "1               Angular,.NET, SQL Server   \n",
      "2      Vue.js, Ruby on Rails, PostgreSQL   \n",
      "3                  Python, Django, MySQL   \n",
      "4              Java, Spring Boot, Oracle   \n",
      "5             Flutter, Firebase, GraphQL   \n",
      "6                  WordPress, PHP, MySQL   \n",
      "7                    Magento, PHP, MySQL   \n",
      "8         React Native, Node.js, MongoDB   \n",
      "9                  iOS, Swift, Core Data   \n",
      "10       Android, Java, Room Persistence   \n",
      "11             Kotlin, Android, Firebase   \n",
      "12       Android TV, Kotlin, Android NDK   \n",
      "13                     iOS, Swift, ARKit   \n",
      "14        Cross-platform, Xamarin, Azure   \n",
      "15          Backend, Kotlin, Spring Boot   \n",
      "16         Frontend, TypeScript, Angular   \n",
      "17    Full-stack, JavaScript, Express.js   \n",
      "18  Machine Learning, Python, TensorFlow   \n",
      "19               DevOps, Jenkins, Docker   \n",
      "\n",
      "                                        Project_Links  \n",
      "0                 https://example.com/react-portfolio  \n",
      "1               https://example.com/angular-portfolio  \n",
      "2                   https://example.com/vue-portfolio  \n",
      "3                https://example.com/python-portfolio  \n",
      "4                  https://example.com/java-portfolio  \n",
      "5               https://example.com/flutter-portfolio  \n",
      "6             https://example.com/wordpress-portfolio  \n",
      "7               https://example.com/magento-portfolio  \n",
      "8          https://example.com/react-native-portfolio  \n",
      "9                   https://example.com/ios-portfolio  \n",
      "10              https://example.com/android-portfolio  \n",
      "11       https://example.com/kotlin-android-portfolio  \n",
      "12           https://example.com/android-tv-portfolio  \n",
      "13               https://example.com/ios-ar-portfolio  \n",
      "14              https://example.com/xamarin-portfolio  \n",
      "15       https://example.com/kotlin-backend-portfolio  \n",
      "16  https://example.com/typescript-frontend-portfolio  \n",
      "17        https://example.com/full-stack-js-portfolio  \n",
      "18            https://example.com/ml-python-portfolio  \n",
      "19               https://example.com/devops-portfolio  \n"
     ]
    }
   ],
   "source": [
    "import pandas as pd\n",
    "import os\n",
    "\n",
    "# Get the current working directory\n",
    "current_dir = os.getcwd()\n",
    "\n",
    "# Join the directory path with the file name\n",
    "file_path = os.path.join(current_dir, 'app', 'resource', 'my_projects.csv')\n",
    "\n",
    "# Read the CSV file\n",
    "df = pd.read_csv(file_path)\n",
    "\n",
    "print(df)"
   ]
  },
  {
   "cell_type": "code",
   "execution_count": 26,
   "metadata": {},
   "outputs": [],
   "source": [
    "import uuid  # used to generate unique identifiers (UUIDs)\n",
    "import chromadb"
   ]
  },
  {
   "cell_type": "code",
   "execution_count": 27,
   "metadata": {},
   "outputs": [],
   "source": [
    "client = chromadb.PersistentClient('vectorstore')  # PersistentClient: store the database on disk.\n",
    "collection = client.get_or_create_collection(name=\"my_projects.csv\")\n",
    "\n",
    "if not collection.count():\n",
    "  # populates ChromaDB collectiont with data from a DataFrame\n",
    "    for _, row in df.iterrows():\n",
    "        collection.add(documents=row[\"Techstack\"],\n",
    "                      metadatas={\"links\": row[\"Project_Links\"]},\n",
    "                       ids=[str(uuid.uuid4())])"
   ]
  },
  {
   "cell_type": "code",
   "execution_count": 28,
   "metadata": {},
   "outputs": [
    {
     "data": {
      "text/plain": [
       "[[{'links': 'https://example.com/ml-python-portfolio'},\n",
       "  {'links': 'https://example.com/python-portfolio'}],\n",
       " [{'links': 'https://example.com/react-portfolio'},\n",
       "  {'links': 'https://example.com/react-native-portfolio'}]]"
      ]
     },
     "execution_count": 28,
     "metadata": {},
     "output_type": "execute_result"
    }
   ],
   "source": [
    "links = collection.query(query_texts=[\"Experience in Python\", \"Expertise in React\"], n_results=2).get('metadatas', [])\n",
    "links"
   ]
  },
  {
   "cell_type": "code",
   "execution_count": 29,
   "metadata": {},
   "outputs": [
    {
     "data": {
      "text/plain": [
       "{'role': 'SDE II',\n",
       " 'experience': '3+ years of non-internship professional software development experience, 2+ years of non-internship design or architecture experience',\n",
       " 'skills': ['Java',\n",
       "  'Linux',\n",
       "  'software programming language',\n",
       "  'design patterns',\n",
       "  'reliability and scaling',\n",
       "  'coding standards',\n",
       "  'code reviews',\n",
       "  'source control management',\n",
       "  'build processes',\n",
       "  'testing',\n",
       "  'operations'],\n",
       " 'description': 'We are looking for software engineers who thrive on complex problems and relish the challenge of operating complex and mission critical systems under extreme loads. Our systems manage hundreds of millions of records, and responds to millions of service requests per minute.'}"
      ]
     },
     "execution_count": 29,
     "metadata": {},
     "output_type": "execute_result"
    }
   ],
   "source": [
    "job = json_res\n",
    "job"
   ]
  },
  {
   "cell_type": "code",
   "execution_count": 30,
   "metadata": {},
   "outputs": [
    {
     "data": {
      "text/plain": [
       "['Java',\n",
       " 'Linux',\n",
       " 'software programming language',\n",
       " 'design patterns',\n",
       " 'reliability and scaling',\n",
       " 'coding standards',\n",
       " 'code reviews',\n",
       " 'source control management',\n",
       " 'build processes',\n",
       " 'testing',\n",
       " 'operations']"
      ]
     },
     "execution_count": 30,
     "metadata": {},
     "output_type": "execute_result"
    }
   ],
   "source": [
    "job['skills']"
   ]
  },
  {
   "cell_type": "markdown",
   "metadata": {},
   "source": [
    "now pass these skills required in the job in collection.query"
   ]
  },
  {
   "cell_type": "code",
   "execution_count": 31,
   "metadata": {},
   "outputs": [
    {
     "data": {
      "text/plain": [
       "[[{'links': 'https://example.com/java-portfolio'},\n",
       "  {'links': 'https://example.com/android-portfolio'}],\n",
       " [{'links': 'https://example.com/java-portfolio'},\n",
       "  {'links': 'https://example.com/magento-portfolio'}],\n",
       " [{'links': 'https://example.com/ml-python-portfolio'},\n",
       "  {'links': 'https://example.com/magento-portfolio'}],\n",
       " [{'links': 'https://example.com/android-portfolio'},\n",
       "  {'links': 'https://example.com/flutter-portfolio'}],\n",
       " [{'links': 'https://example.com/android-portfolio'},\n",
       "  {'links': 'https://example.com/ml-python-portfolio'}],\n",
       " [{'links': 'https://example.com/magento-portfolio'},\n",
       "  {'links': 'https://example.com/wordpress-portfolio'}],\n",
       " [{'links': 'https://example.com/full-stack-js-portfolio'},\n",
       "  {'links': 'https://example.com/wordpress-portfolio'}],\n",
       " [{'links': 'https://example.com/devops-portfolio'},\n",
       "  {'links': 'https://example.com/wordpress-portfolio'}],\n",
       " [{'links': 'https://example.com/devops-portfolio'},\n",
       "  {'links': 'https://example.com/ml-python-portfolio'}],\n",
       " [{'links': 'https://example.com/android-portfolio'},\n",
       "  {'links': 'https://example.com/magento-portfolio'}],\n",
       " [{'links': 'https://example.com/magento-portfolio'},\n",
       "  {'links': 'https://example.com/ml-python-portfolio'}]]"
      ]
     },
     "execution_count": 31,
     "metadata": {},
     "output_type": "execute_result"
    }
   ],
   "source": [
    "links = collection.query(query_texts=job['skills'], n_results=2).get('metadatas', [])\n",
    "links"
   ]
  },
  {
   "cell_type": "markdown",
   "metadata": {},
   "source": [
    "cold email prompt"
   ]
  },
  {
   "cell_type": "code",
   "execution_count": 32,
   "metadata": {},
   "outputs": [
    {
     "name": "stdout",
     "output_type": "stream",
     "text": [
      "Subject: Application for SDE II Position - Bringing Passion and Expertise to Complex Problem-Solving\n",
      "\n",
      "Dear Hiring Manager,\n",
      "\n",
      "I am thrilled to apply for the SDE II position at your esteemed organization, where I can leverage my skills and experience to tackle complex problems and contribute to the development of mission-critical systems. With a strong foundation in computer science and a passion for software development, I am confident that I can make a significant impact at your company.\n",
      "\n",
      "As a recent B.Tech CSE graduate from the Indian Institute of Information Technology, Pune (IIIT Pune), I have developed a solid understanding of software programming languages, design patterns, and software development principles. My experience with Java, in particular, has equipped me with the skills to design and develop efficient, scalable, and reliable software systems. I am excited about the opportunity to work with a talented team to build and operate complex systems that manage hundreds of millions of records and respond to millions of service requests per minute.\n",
      "\n",
      "I would like to highlight my proficiency in Java, Linux, and software programming languages, which aligns with the requirements of the SDE II role. Additionally, my experience with design patterns, reliability and scaling, coding standards, code reviews, source control management, build processes, testing, and operations demonstrates my ability to work on complex systems and collaborate with cross-functional teams.\n",
      "\n",
      "To showcase my skills and portfolio, I would like to share the following relevant project links:\n",
      "- https://example.com/java-portfolio\n",
      "- https://example.com/devops-portfolio\n",
      "\n",
      "These projects demonstrate my expertise in Java development, design patterns, and devops practices, which are essential for the SDE II role. I am confident that my skills and experience make me an ideal candidate for this position, and I am excited about the opportunity to contribute to the success of your team.\n",
      "\n",
      "Thank you for considering my application. I would welcome the opportunity to discuss my qualifications further and explore how I can contribute to the success of your organization. Please feel free to contact me at your convenience.\n",
      "\n",
      "Best regards,\n",
      "\n",
      "Sudhir Sude\n"
     ]
    }
   ],
   "source": [
    "# define the structure of the prompt to be sent to the LLM\n",
    "prompt_email = PromptTemplate.from_template(\n",
    "    \"\"\"\n",
    "    ### JOB DESCRIPTION:\n",
    "    {job_description}\n",
    "    \n",
    "    ### INSTRUCTION:\n",
    "    You are Sudhir Sude, a pass out B.Tech CSE student from the Indian Institute of Information Technology, Pune (IIIT Pune). \n",
    "    You are looking for job/internship opportunities. Your job is to write a cold email to the client regarding the job mentioned above, \n",
    "    highlighting your capabilities and demonstrating how you can fulfill their needs. \n",
    "    Additionally, include the most relevant project links from the following list to showcase your portfolio and relevant skills: {link_list}. \n",
    "    Maintain a professional and enthusiastic tone throughout. \n",
    "    Remember, you are Sudhir Sude.\n",
    "    Do not provide a preamble.\n",
    "    ### EMAIL (NO PREAMBLE):\n",
    "    \n",
    "    \"\"\"\n",
    ")\n",
    "\n",
    "# Create the processing chain\n",
    "chain_email = prompt_email | llm\n",
    "\n",
    "response = chain_email.invoke({\"job_description\": str(job), \"link_list\": links})\n",
    "print(response.content)"
   ]
  },
  {
   "cell_type": "code",
   "execution_count": null,
   "metadata": {},
   "outputs": [],
   "source": []
  }
 ],
 "metadata": {
  "kernelspec": {
   "display_name": "cold_email",
   "language": "python",
   "name": "python3"
  },
  "language_info": {
   "codemirror_mode": {
    "name": "ipython",
    "version": 3
   },
   "file_extension": ".py",
   "mimetype": "text/x-python",
   "name": "python",
   "nbconvert_exporter": "python",
   "pygments_lexer": "ipython3",
   "version": "3.10.16"
  }
 },
 "nbformat": 4,
 "nbformat_minor": 2
}
